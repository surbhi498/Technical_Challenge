{
  "nbformat": 4,
  "nbformat_minor": 0,
  "metadata": {
    "colab": {
      "provenance": [],
      "authorship_tag": "ABX9TyOHWyEeg3UnNvj2WZZHNHbn",
      "include_colab_link": true
    },
    "kernelspec": {
      "name": "python3",
      "display_name": "Python 3"
    },
    "language_info": {
      "name": "python"
    }
  },
  "cells": [
    {
      "cell_type": "markdown",
      "metadata": {
        "id": "view-in-github",
        "colab_type": "text"
      },
      "source": [
        "<a href=\"https://colab.research.google.com/github/surbhi498/Technical_Challenge/blob/main/Technical_Challenge.ipynb\" target=\"_parent\"><img src=\"https://colab.research.google.com/assets/colab-badge.svg\" alt=\"Open In Colab\"/></a>"
      ]
    },
    {
      "cell_type": "code",
      "source": [
        "!pip install sounddevice"
      ],
      "metadata": {
        "colab": {
          "base_uri": "https://localhost:8080/"
        },
        "id": "rLsGgbKxPupg",
        "outputId": "7d4b8601-d108-4cbb-f443-e9edd590928e"
      },
      "execution_count": 1,
      "outputs": [
        {
          "output_type": "stream",
          "name": "stdout",
          "text": [
            "Collecting sounddevice\n",
            "  Downloading sounddevice-0.5.2-py3-none-any.whl.metadata (1.6 kB)\n",
            "Requirement already satisfied: CFFI>=1.0 in /usr/local/lib/python3.11/dist-packages (from sounddevice) (1.17.1)\n",
            "Requirement already satisfied: pycparser in /usr/local/lib/python3.11/dist-packages (from CFFI>=1.0->sounddevice) (2.22)\n",
            "Downloading sounddevice-0.5.2-py3-none-any.whl (32 kB)\n",
            "Installing collected packages: sounddevice\n",
            "Successfully installed sounddevice-0.5.2\n"
          ]
        }
      ]
    },
    {
      "cell_type": "code",
      "source": [
        "!apt-get update\n",
        "!apt-get install -y libportaudio2"
      ],
      "metadata": {
        "colab": {
          "base_uri": "https://localhost:8080/"
        },
        "id": "igZjGzK8PzS7",
        "outputId": "e22ebc89-11af-4c92-c1a9-08c063621814"
      },
      "execution_count": 2,
      "outputs": [
        {
          "output_type": "stream",
          "name": "stdout",
          "text": [
            "\r0% [Working]\r            \rGet:1 https://cloud.r-project.org/bin/linux/ubuntu jammy-cran40/ InRelease [3,632 B]\n",
            "Get:2 https://developer.download.nvidia.com/compute/cuda/repos/ubuntu2204/x86_64  InRelease [1,581 B]\n",
            "Hit:3 http://archive.ubuntu.com/ubuntu jammy InRelease\n",
            "Get:4 http://security.ubuntu.com/ubuntu jammy-security InRelease [129 kB]\n",
            "Hit:5 https://r2u.stat.illinois.edu/ubuntu jammy InRelease\n",
            "Get:6 http://archive.ubuntu.com/ubuntu jammy-updates InRelease [128 kB]\n",
            "Get:7 https://developer.download.nvidia.com/compute/cuda/repos/ubuntu2204/x86_64  Packages [1,929 kB]\n",
            "Get:8 http://archive.ubuntu.com/ubuntu jammy-backports InRelease [127 kB]\n",
            "Hit:9 https://ppa.launchpadcontent.net/deadsnakes/ppa/ubuntu jammy InRelease\n",
            "Hit:10 https://ppa.launchpadcontent.net/graphics-drivers/ppa/ubuntu jammy InRelease\n",
            "Hit:11 https://ppa.launchpadcontent.net/ubuntugis/ppa/ubuntu jammy InRelease\n",
            "Get:12 http://archive.ubuntu.com/ubuntu jammy-updates/main amd64 Packages [3,520 kB]\n",
            "Get:13 http://archive.ubuntu.com/ubuntu jammy-updates/universe amd64 Packages [1,575 kB]\n",
            "Get:14 http://security.ubuntu.com/ubuntu jammy-security/universe amd64 Packages [1,270 kB]\n",
            "Get:15 http://security.ubuntu.com/ubuntu jammy-security/main amd64 Packages [3,208 kB]\n",
            "Get:16 http://security.ubuntu.com/ubuntu jammy-security/restricted amd64 Packages [5,111 kB]\n",
            "Fetched 17.0 MB in 4s (4,128 kB/s)\n",
            "Reading package lists... Done\n",
            "W: Skipping acquire of configured file 'main/source/Sources' as repository 'https://r2u.stat.illinois.edu/ubuntu jammy InRelease' does not seem to provide it (sources.list entry misspelt?)\n",
            "Reading package lists... Done\n",
            "Building dependency tree... Done\n",
            "Reading state information... Done\n",
            "The following NEW packages will be installed:\n",
            "  libportaudio2\n",
            "0 upgraded, 1 newly installed, 0 to remove and 37 not upgraded.\n",
            "Need to get 65.3 kB of archives.\n",
            "After this operation, 223 kB of additional disk space will be used.\n",
            "Get:1 http://archive.ubuntu.com/ubuntu jammy/universe amd64 libportaudio2 amd64 19.6.0-1.1 [65.3 kB]\n",
            "Fetched 65.3 kB in 0s (212 kB/s)\n",
            "Selecting previously unselected package libportaudio2:amd64.\n",
            "(Reading database ... 126284 files and directories currently installed.)\n",
            "Preparing to unpack .../libportaudio2_19.6.0-1.1_amd64.deb ...\n",
            "Unpacking libportaudio2:amd64 (19.6.0-1.1) ...\n",
            "Setting up libportaudio2:amd64 (19.6.0-1.1) ...\n",
            "Processing triggers for libc-bin (2.35-0ubuntu3.8) ...\n",
            "/sbin/ldconfig.real: /usr/local/lib/libtcm_debug.so.1 is not a symbolic link\n",
            "\n",
            "/sbin/ldconfig.real: /usr/local/lib/libtbbmalloc_proxy.so.2 is not a symbolic link\n",
            "\n",
            "/sbin/ldconfig.real: /usr/local/lib/libtbbbind_2_0.so.3 is not a symbolic link\n",
            "\n",
            "/sbin/ldconfig.real: /usr/local/lib/libtcm.so.1 is not a symbolic link\n",
            "\n",
            "/sbin/ldconfig.real: /usr/local/lib/libtbbbind_2_5.so.3 is not a symbolic link\n",
            "\n",
            "/sbin/ldconfig.real: /usr/local/lib/libhwloc.so.15 is not a symbolic link\n",
            "\n",
            "/sbin/ldconfig.real: /usr/local/lib/libur_adapter_level_zero_v2.so.0 is not a symbolic link\n",
            "\n",
            "/sbin/ldconfig.real: /usr/local/lib/libumf.so.0 is not a symbolic link\n",
            "\n",
            "/sbin/ldconfig.real: /usr/local/lib/libtbbmalloc.so.2 is not a symbolic link\n",
            "\n",
            "/sbin/ldconfig.real: /usr/local/lib/libtbb.so.12 is not a symbolic link\n",
            "\n",
            "/sbin/ldconfig.real: /usr/local/lib/libur_adapter_opencl.so.0 is not a symbolic link\n",
            "\n",
            "/sbin/ldconfig.real: /usr/local/lib/libur_adapter_level_zero.so.0 is not a symbolic link\n",
            "\n",
            "/sbin/ldconfig.real: /usr/local/lib/libtbbbind.so.3 is not a symbolic link\n",
            "\n",
            "/sbin/ldconfig.real: /usr/local/lib/libur_loader.so.0 is not a symbolic link\n",
            "\n"
          ]
        }
      ]
    },
    {
      "cell_type": "code",
      "execution_count": 3,
      "metadata": {
        "colab": {
          "base_uri": "https://localhost:8080/"
        },
        "id": "TCWZJbf6Ofcf",
        "outputId": "40702e1a-f06a-4b78-a234-1e7b5ed74a2b"
      },
      "outputs": [
        {
          "output_type": "stream",
          "name": "stderr",
          "text": [
            "/usr/local/lib/python3.11/dist-packages/huggingface_hub/utils/_auth.py:94: UserWarning: \n",
            "The secret `HF_TOKEN` does not exist in your Colab secrets.\n",
            "To authenticate with the Hugging Face Hub, create a token in your settings tab (https://huggingface.co/settings/tokens), set it as secret in your Google Colab and restart your session.\n",
            "You will be able to reuse this secret in all of your notebooks.\n",
            "Please note that authentication is recommended but still optional to access public models or datasets.\n",
            "  warnings.warn(\n"
          ]
        },
        {
          "output_type": "stream",
          "name": "stdout",
          "text": [
            "Feature matrix: (2700, 120)\n",
            "CV Accuracy: 0.9678\n",
            "Classification report:\n",
            "               precision    recall  f1-score   support\n",
            "\n",
            "           0      0.978     0.970     0.974       270\n",
            "           1      0.977     0.959     0.968       270\n",
            "           2      0.967     0.963     0.965       270\n",
            "           3      0.928     0.956     0.942       270\n",
            "           4      0.993     0.989     0.991       270\n",
            "           5      0.989     0.989     0.989       270\n",
            "           6      0.947     0.919     0.932       270\n",
            "           7      0.981     0.974     0.978       270\n",
            "           8      0.949     0.970     0.960       270\n",
            "           9      0.971     0.989     0.980       270\n",
            "\n",
            "    accuracy                          0.968      2700\n",
            "   macro avg      0.968     0.968     0.968      2700\n",
            "weighted avg      0.968     0.968     0.968      2700\n",
            "\n",
            "Confusion matrix:\n",
            " [[262   1   1   3   0   0   1   1   0   1]\n",
            " [  0 259   1   0   0   3   0   0   1   6]\n",
            " [  1   1 260   6   1   0   1   0   0   0]\n",
            " [  1   0   5 258   0   0   1   2   3   0]\n",
            " [  1   0   0   0 267   0   0   1   1   0]\n",
            " [  0   2   0   0   0 267   0   0   0   1]\n",
            " [  1   0   1   9   1   0 248   1   9   0]\n",
            " [  2   0   0   2   0   0   3 263   0   0]\n",
            " [  0   0   1   0   0   0   7   0 262   0]\n",
            " [  0   2   0   0   0   0   1   0   0 267]]\n"
          ]
        }
      ],
      "source": [
        "import io\n",
        "import joblib\n",
        "import numpy as np\n",
        "import pandas as pd\n",
        "import soundfile as sf\n",
        "import librosa\n",
        "import sounddevice as sd\n",
        "\n",
        "from sklearn.preprocessing import StandardScaler\n",
        "from sklearn.linear_model import LogisticRegression\n",
        "from sklearn.model_selection import StratifiedKFold, cross_val_predict\n",
        "from sklearn.metrics import accuracy_score, classification_report, confusion_matrix\n",
        "\n",
        "\n",
        "# ---------- FEATURE EXTRACTION ----------\n",
        "def extract_logmel(y, sr, n_mels=40, hop_length=160, win_length=400, fmin=50, fmax=8000):\n",
        "    \"\"\"Extract compact log-mel features + delta for spoken digits.\"\"\"\n",
        "    M = librosa.feature.melspectrogram(\n",
        "        y=y, sr=sr, n_mels=n_mels, hop_length=hop_length, win_length=win_length,\n",
        "        fmin=fmin, fmax=min(fmax, sr/2), power=2.0\n",
        "    )\n",
        "    logM = librosa.power_to_db(M + 1e-10)\n",
        "    d = librosa.feature.delta(logM)\n",
        "    feat = np.concatenate([logM.mean(axis=1), logM.std(axis=1), d.mean(axis=1)], axis=0)\n",
        "    return feat.astype(np.float32)\n",
        "\n",
        "\n",
        "def decode_wav_bytes(b):\n",
        "    \"\"\"Decode WAV bytes into mono 16k waveform.\"\"\"\n",
        "    y, sr = sf.read(io.BytesIO(b), dtype='float32', always_2d=False)\n",
        "    if y.ndim > 1:\n",
        "        y = np.mean(y, axis=1)  # convert to mono\n",
        "    if sr != 16000:\n",
        "        y = librosa.resample(y, orig_sr=sr, target_sr=16000)\n",
        "        sr = 16000\n",
        "    y, _ = librosa.effects.trim(y, top_db=30)  # trim silence\n",
        "    return y, sr\n",
        "\n",
        "\n",
        "def build_feature_matrix(df):\n",
        "    \"\"\"Convert dataframe with audio bytes & labels into feature matrix and label array.\"\"\"\n",
        "    X, y = [], []\n",
        "    for _, row in df.iterrows():\n",
        "        b = row['audio']['bytes']\n",
        "        yi = int(row['label'])\n",
        "        y_wav, sr = decode_wav_bytes(b)\n",
        "        feat = extract_logmel(y_wav, sr)\n",
        "        X.append(feat)\n",
        "        y.append(yi)\n",
        "    return np.vstack(X), np.array(y)\n",
        "\n",
        "\n",
        "# ---------- TRAINING ----------\n",
        "def train_model(df):\n",
        "    X, y = build_feature_matrix(df)\n",
        "    print(\"Feature matrix:\", X.shape)\n",
        "\n",
        "    scaler = StandardScaler()\n",
        "    Xz = scaler.fit_transform(X)\n",
        "\n",
        "    clf = LogisticRegression(C=1.0, max_iter=1000, n_jobs=-1, random_state=42)\n",
        "\n",
        "    # Cross-validation\n",
        "    skf = StratifiedKFold(n_splits=5, shuffle=True, random_state=42)\n",
        "    y_pred = cross_val_predict(clf, Xz, y, cv=skf, n_jobs=-1)\n",
        "\n",
        "    acc = accuracy_score(y, y_pred)\n",
        "    print(f\"CV Accuracy: {acc:.4f}\")\n",
        "    print(\"Classification report:\\n\", classification_report(y, y_pred, digits=3))\n",
        "    print(\"Confusion matrix:\\n\", confusion_matrix(y, y_pred))\n",
        "\n",
        "    # Fit final model\n",
        "    clf.fit(Xz, y)\n",
        "    joblib.dump(scaler, \"scaler.joblib\")\n",
        "    joblib.dump(clf, \"digit_lr.joblib\")\n",
        "    np.save(\"X_features.npy\", X)\n",
        "    np.save(\"y_labels.npy\", y)\n",
        "\n",
        "\n",
        "# ---------- PREDICTION ----------\n",
        "def predict_digit(wav_bytes, scaler_path=\"scaler.joblib\", model_path=\"digit_lr.joblib\"):\n",
        "    sc = joblib.load(scaler_path)\n",
        "    model = joblib.load(model_path)\n",
        "    y_wav, sr = decode_wav_bytes(wav_bytes)\n",
        "    feat = extract_logmel(y_wav, sr)[None, :]\n",
        "    feat = sc.transform(feat)\n",
        "    proba = model.predict_proba(feat)[0]\n",
        "    pred = int(np.argmax(proba))\n",
        "    return pred, proba\n",
        "\n",
        "\n",
        "# ---------- MICROPHONE INTEGRATION ----------\n",
        "def record_and_predict(duration=1.0, samplerate=16000):\n",
        "    print(f\"Recording for {duration} seconds...\")\n",
        "    audio = sd.rec(int(duration * samplerate), samplerate=samplerate, channels=1, dtype='float32')\n",
        "    sd.wait()\n",
        "    buf = io.BytesIO()\n",
        "    sf.write(buf, audio, samplerate)\n",
        "    buf.seek(0)\n",
        "    pred, proba = predict_digit(buf.read())\n",
        "    print(f\"Predicted digit: {pred}, probabilities: {np.round(proba, 3)}\")\n",
        "\n",
        "\n",
        "# ---------- USAGE EXAMPLES ----------\n",
        "# 1. TRAIN MODEL:\n",
        "df = pd.read_parquet(\"hf://datasets/mteb/free-spoken-digit-dataset/data/train-00000-of-00001.parquet\")\n",
        "train_model(df)\n",
        "\n",
        "# # 2. RUN MIC TEST AFTER TRAINING:\n",
        "# record_and_predict(1.5)\n"
      ]
    },
    {
      "cell_type": "code",
      "source": [
        "# Load test split\n",
        "df_test = pd.read_parquet(\"hf://datasets/mteb/free-spoken-digit-dataset/data/test-00000-of-00001.parquet\")\n",
        "\n",
        "# Build features (same preprocessing as training)\n",
        "X_test, y_test = build_feature_matrix(df_test)\n",
        "\n",
        "# Load trained model + scaler\n",
        "scaler = joblib.load(\"scaler.joblib\")\n",
        "clf = joblib.load(\"digit_lr.joblib\")\n",
        "\n",
        "# Transform features\n",
        "X_test_scaled = scaler.transform(X_test)\n",
        "\n",
        "# Predict\n",
        "y_pred = clf.predict(X_test_scaled)\n",
        "\n",
        "# Evaluate\n",
        "from sklearn.metrics import accuracy_score, classification_report, confusion_matrix\n",
        "\n",
        "acc = accuracy_score(y_test, y_pred)\n",
        "print(f\"Test Accuracy: {acc:.4f}\")\n",
        "print(\"Classification Report:\\n\", classification_report(y_test, y_pred))\n",
        "print(\"Confusion Matrix:\\n\", confusion_matrix(y_test, y_pred))\n"
      ],
      "metadata": {
        "colab": {
          "base_uri": "https://localhost:8080/"
        },
        "id": "I6j6X4eaP28q",
        "outputId": "126585d1-a210-45d3-e617-a9205cf77758"
      },
      "execution_count": 4,
      "outputs": [
        {
          "output_type": "stream",
          "name": "stdout",
          "text": [
            "Test Accuracy: 0.9733\n",
            "Classification Report:\n",
            "               precision    recall  f1-score   support\n",
            "\n",
            "           0       0.97      1.00      0.98        30\n",
            "           1       1.00      0.97      0.98        30\n",
            "           2       1.00      1.00      1.00        30\n",
            "           3       0.96      0.90      0.93        30\n",
            "           4       0.97      1.00      0.98        30\n",
            "           5       1.00      1.00      1.00        30\n",
            "           6       0.90      0.90      0.90        30\n",
            "           7       1.00      1.00      1.00        30\n",
            "           8       0.97      0.97      0.97        30\n",
            "           9       0.97      1.00      0.98        30\n",
            "\n",
            "    accuracy                           0.97       300\n",
            "   macro avg       0.97      0.97      0.97       300\n",
            "weighted avg       0.97      0.97      0.97       300\n",
            "\n",
            "Confusion Matrix:\n",
            " [[30  0  0  0  0  0  0  0  0  0]\n",
            " [ 0 29  0  0  0  0  0  0  0  1]\n",
            " [ 0  0 30  0  0  0  0  0  0  0]\n",
            " [ 1  0  0 27  0  0  2  0  0  0]\n",
            " [ 0  0  0  0 30  0  0  0  0  0]\n",
            " [ 0  0  0  0  0 30  0  0  0  0]\n",
            " [ 0  0  0  1  1  0 27  0  1  0]\n",
            " [ 0  0  0  0  0  0  0 30  0  0]\n",
            " [ 0  0  0  0  0  0  1  0 29  0]\n",
            " [ 0  0  0  0  0  0  0  0  0 30]]\n"
          ]
        }
      ]
    }
  ]
}